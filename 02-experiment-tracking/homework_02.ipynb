{
 "cells": [
  {
   "cell_type": "code",
   "execution_count": 1,
   "id": "e5a57b1b-2610-4ad1-8526-62486c69eda8",
   "metadata": {},
   "outputs": [],
   "source": [
    "import mlflow"
   ]
  },
  {
   "cell_type": "code",
   "execution_count": 3,
   "id": "1c9f7d1c-29a4-4ec2-a540-790b6dc16973",
   "metadata": {},
   "outputs": [
    {
     "name": "stdout",
     "output_type": "stream",
     "text": [
      "--2025-05-11 00:26:49--  https://d37ci6vzurychx.cloudfront.net/trip-data/green_tripdata_2023-01.parquet\n",
      "52.84.160.73, 52.84.160.84, 52.84.160.116, ...6vzurychx.cloudfront.net)... \n",
      "Connecting to d37ci6vzurychx.cloudfront.net (d37ci6vzurychx.cloudfront.net)|52.84.160.73|:443... connected.\n",
      "HTTP request sent, awaiting response... 200 OK\n",
      "Length: 1427002 (1.4M) [binary/octet-stream]\n",
      "Saving to: ‘data/green_tripdata_2023-01.parquet.1’\n",
      "\n",
      "green_tripdata_2023 100%[===================>]   1.36M  --.-KB/s    in 0.02s   \n",
      "\n",
      "2025-05-11 00:26:49 (61.2 MB/s) - ‘data/green_tripdata_2023-01.parquet.1’ saved [1427002/1427002]\n",
      "\n",
      "--2025-05-11 00:26:50--  https://d37ci6vzurychx.cloudfront.net/trip-data/green_tripdata_2023-02.parquet\n",
      "Resolving d37ci6vzurychx.cloudfront.net (d37ci6vzurychx.cloudfront.net)... 52.84.160.84, 52.84.160.116, 52.84.160.213, ...\n",
      "Connecting to d37ci6vzurychx.cloudfront.net (d37ci6vzurychx.cloudfront.net)|52.84.160.84|:443... connected.\n",
      "200 OKequest sent, awaiting response... \n",
      "Length: 1533740 (1.5M) [binary/octet-stream]\n",
      "Saving to: ‘data/green_tripdata_2023-02.parquet’\n",
      "\n",
      "green_tripdata_2023 100%[===================>]   1.46M  --.-KB/s    in 0.03s   \n",
      "\n",
      "2025-05-11 00:26:50 (53.4 MB/s) - ‘data/green_tripdata_2023-02.parquet’ saved [1533740/1533740]\n",
      "\n",
      "--2025-05-11 00:26:50--  https://d37ci6vzurychx.cloudfront.net/trip-data/green_tripdata_2023-03.parquet\n",
      "Resolving d37ci6vzurychx.cloudfront.net (d37ci6vzurychx.cloudfront.net)... 52.84.160.213, 52.84.160.84, 52.84.160.73, ...\n",
      "Connecting to d37ci6vzurychx.cloudfront.net (d37ci6vzurychx.cloudfront.net)|52.84.160.213|:443... connected.\n",
      "HTTP request sent, awaiting response... 200 OK\n",
      "Length: 1730999 (1.7M) [binary/octet-stream]\n",
      "Saving to: ‘data/green_tripdata_2023-03.parquet.2’\n",
      "\n",
      "green_tripdata_2023 100%[===================>]   1.65M  --.-KB/s    in 0.03s   \n",
      "\n",
      "2025-05-11 00:26:50 (56.8 MB/s) - ‘data/green_tripdata_2023-03.parquet.2’ saved [1730999/1730999]\n",
      "\n"
     ]
    }
   ],
   "source": [
    "# !wget -P data https://d37ci6vzurychx.cloudfront.net/trip-data/green_tripdata_2023-01.parquet\n",
    "# !wget -P data https://d37ci6vzurychx.cloudfront.net/trip-data/green_tripdata_2023-02.parquet\n",
    "# !wget -P data https://d37ci6vzurychx.cloudfront.net/trip-data/green_tripdata_2023-03.parquet"
   ]
  },
  {
   "cell_type": "code",
   "execution_count": null,
   "id": "80a17243-bf73-4b83-9bb9-924b83f193f3",
   "metadata": {},
   "outputs": [],
   "source": [
    "# 1. mlflow, version 2.22.0\n",
    "# 2. 4 files saved in the output folder\n",
    "# 3. min_samples_split: 2\n",
    "# 4. default-artifact-root\n",
    "# 5. best rmse: 5.335\n",
    "# 6. best test rmse: 5.56"
   ]
  }
 ],
 "metadata": {
  "kernelspec": {
   "display_name": "Python 3 (ipykernel)",
   "language": "python",
   "name": "python3"
  },
  "language_info": {
   "codemirror_mode": {
    "name": "ipython",
    "version": 3
   },
   "file_extension": ".py",
   "mimetype": "text/x-python",
   "name": "python",
   "nbconvert_exporter": "python",
   "pygments_lexer": "ipython3",
   "version": "3.13.2"
  }
 },
 "nbformat": 4,
 "nbformat_minor": 5
}
