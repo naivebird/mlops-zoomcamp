{
 "cells": [
  {
   "cell_type": "code",
   "execution_count": 1,
   "id": "e5a57b1b-2610-4ad1-8526-62486c69eda8",
   "metadata": {},
   "outputs": [],
   "source": [
    "import mlflow"
   ]
  },
  {
   "cell_type": "code",
   "execution_count": 1,
   "id": "1c9f7d1c-29a4-4ec2-a540-790b6dc16973",
   "metadata": {},
   "outputs": [
    {
     "name": "stdout",
     "output_type": "stream",
     "text": [
      "--2025-05-31 02:02:50--  https://d37ci6vzurychx.cloudfront.net/trip-data/yellow_tripdata_2023-03.parquet\n",
      "Resolving d37ci6vzurychx.cloudfront.net (d37ci6vzurychx.cloudfront.net)... 3.163.157.96, 3.163.157.133, 3.163.157.7, ...\n",
      "Connecting to d37ci6vzurychx.cloudfront.net (d37ci6vzurychx.cloudfront.net)|3.163.157.96|:443... connected.\n",
      "HTTP request sent, awaiting response... 200 OK\n",
      "Length: 56127762 (54M) [binary/octet-stream]\n",
      "Saving to: ‘data/yellow_tripdata_2023-03.parquet’\n",
      "\n",
      "yellow_tripdata_202 100%[===================>]  53.53M   131MB/s    in 0.4s    \n",
      "\n",
      "2025-05-31 02:02:51 (131 MB/s) - ‘data/yellow_tripdata_2023-03.parquet’ saved [56127762/56127762]\n",
      "\n"
     ]
    }
   ],
   "source": [
    "# !wget -P data https://d37ci6vzurychx.cloudfront.net/trip-data/green_tripdata_2023-01.parquet\n",
    "# !wget -P data https://d37ci6vzurychx.cloudfront.net/trip-data/green_tripdata_2023-02.parquet\n",
    "# !wget -P data https://d37ci6vzurychx.cloudfront.net/trip-data/green_tripdata_2023-03.parquet\n",
    "!wget -P data https://d37ci6vzurychx.cloudfront.net/trip-data/yellow_tripdata_2023-03.parquet"
   ]
  },
  {
   "cell_type": "code",
   "execution_count": null,
   "id": "80a17243-bf73-4b83-9bb9-924b83f193f3",
   "metadata": {},
   "outputs": [],
   "source": [
    "# 1. mlflow, version 2.22.0\n",
    "# 2. 4 files saved in the output folder\n",
    "# 3. min_samples_split: 2\n",
    "# 4. default-artifact-root\n",
    "# 5. best rmse: 5.335\n",
    "# 6. best test rmse: 5.56"
   ]
  }
 ],
 "metadata": {
  "kernelspec": {
   "display_name": "Python 3 (ipykernel)",
   "language": "python",
   "name": "python3"
  },
  "language_info": {
   "codemirror_mode": {
    "name": "ipython",
    "version": 3
   },
   "file_extension": ".py",
   "mimetype": "text/x-python",
   "name": "python",
   "nbconvert_exporter": "python",
   "pygments_lexer": "ipython3",
   "version": "3.13.2"
  }
 },
 "nbformat": 4,
 "nbformat_minor": 5
}
